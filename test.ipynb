{
 "cells": [
  {
   "cell_type": "code",
   "execution_count": 1,
   "metadata": {},
   "outputs": [
    {
     "name": "stderr",
     "output_type": "stream",
     "text": [
      "/Users/witoldtenhove/Documents/Projects/tenhove/ask-multiple-pdfs/myenv/lib/python3.9/site-packages/urllib3/__init__.py:35: NotOpenSSLWarning: urllib3 v2 only supports OpenSSL 1.1.1+, currently the 'ssl' module is compiled with 'LibreSSL 2.8.3'. See: https://github.com/urllib3/urllib3/issues/3020\n",
      "  warnings.warn(\n"
     ]
    }
   ],
   "source": [
    "from langchain_community.document_loaders import PDFPlumberLoader"
   ]
  },
  {
   "cell_type": "code",
   "execution_count": 2,
   "metadata": {},
   "outputs": [],
   "source": [
    "loader = PDFPlumberLoader(\"Opleidingsstatuut en Onderwijs- en Examenregeling Bacheloropleiding Bedrijfskunde Voltijd 23-24.pdf\")"
   ]
  },
  {
   "cell_type": "code",
   "execution_count": 3,
   "metadata": {},
   "outputs": [],
   "source": [
    "data = loader.load()"
   ]
  },
  {
   "cell_type": "code",
   "execution_count": 4,
   "metadata": {},
   "outputs": [
    {
     "data": {
      "text/plain": [
       "Document(page_content='Opleidingsstatuut en Onderwijs- en Examenregeling Bacheloropleiding\\nBedrijfskunde Voltijd 23-24\\nAcademie Organisatie en Ontwikkeling\\nStudiejaar 2023-2024\\nLaatste vaststelling op 21 december 2023\\nLaatste instemming academieraad op 28 november 2023\\nLaatste instemming opleidingscommissie op 19 december 2023\\n', metadata={'source': 'Opleidingsstatuut en Onderwijs- en Examenregeling Bacheloropleiding Bedrijfskunde Voltijd 23-24.pdf', 'file_path': 'Opleidingsstatuut en Onderwijs- en Examenregeling Bacheloropleiding Bedrijfskunde Voltijd 23-24.pdf', 'page': 0, 'total_pages': 27, 'CreationDate': 'D:20240210132557', 'Creator': 'PDFium', 'Producer': 'PDFium'})"
      ]
     },
     "execution_count": 4,
     "metadata": {},
     "output_type": "execute_result"
    }
   ],
   "source": [
    "data[0]"
   ]
  }
 ],
 "metadata": {
  "kernelspec": {
   "display_name": "myenv",
   "language": "python",
   "name": "python3"
  },
  "language_info": {
   "codemirror_mode": {
    "name": "ipython",
    "version": 3
   },
   "file_extension": ".py",
   "mimetype": "text/x-python",
   "name": "python",
   "nbconvert_exporter": "python",
   "pygments_lexer": "ipython3",
   "version": "3.9.6"
  }
 },
 "nbformat": 4,
 "nbformat_minor": 2
}
